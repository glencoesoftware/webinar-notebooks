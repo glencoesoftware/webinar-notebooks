{
 "cells": [
  {
   "attachments": {},
   "cell_type": "markdown",
   "metadata": {},
   "source": [
    "Copyright (C) 2023 Glencoe Software, Inc. All Rights Reserved.\n",
    "\n",
    "This program is free software; you can redistribute it and/or modify it under the terms of the GNU General Public License as published by the Free Software Foundation; either version 2 of the License, or (at your option) any later version.\n",
    "\n",
    "This program is distributed in the hope that it will be useful, but WITHOUT ANY WARRANTY; without even the implied warranty of MERCHANTABILITY or FITNESS FOR A PARTICULAR PURPOSE. See the GNU General Public License for more details.\n",
    "\n",
    "You should have received a copy of the GNU General Public License along with this program; if not, write to the Free Software Foundation, Inc., 51 Franklin Street, Fifth Floor, Boston, MA 02110-1301 USA."
   ]
  },
  {
   "attachments": {},
   "cell_type": "markdown",
   "metadata": {},
   "source": [
    "### Unsupervised Clustering for Whole Slide Image with omero2pandas"
   ]
  },
  {
   "attachments": {},
   "cell_type": "markdown",
   "metadata": {},
   "source": [
    "This notebook demonstrates how to retrieve analytical data stored as an [OMERO.table](https://docs.openmicroscopy.org/omero-blitz/5.5.8/slice2html/omero/grid/Table.html) from the [OMERO.server](https://www.glencoesoftware.com/products/omeroplus/) using [omero2pandas](https://github.com/glencoesoftware/omero2pandas) and build unsupervised clustering model to profile the cells.\n",
    "\n",
    "The example below uses the output of the image processing performed using [OMERO-Segmentation Connector for WSI](https://www.glencoesoftware.com/solutions/digital-pathology/) which utilizes [StarDist](https://github.com/stardist/stardist) as a segmenter. Derived features (parameters describing cells' shape, intensity and neighborhood) are then used to build a clustering model using [scikit-learn](https://scikit-learn.org/stable/modules/generated/sklearn.cluster.Birch.html). Finally the cluster ids are assigned to each object and saved to [OMERO.tables](https://docs.openmicroscopy.org/omero-blitz/5.5.8/slice2html/omero/grid/Table.html) using [omero2pandas](https://github.com/glencoesoftware/omero2pandas). The stored data can be visualized remotely with [PathViewer](https://www.glencoesoftware.com/products/pathviewer/) and [Pageant](https://www.glencoesoftware.com/products/pageant/)."
   ]
  },
  {
   "attachments": {},
   "cell_type": "markdown",
   "metadata": {},
   "source": [
    "##### Workflow\n",
    " * Load OMERO.table to Pandas DataFrame using omero2pandas\n",
    " * Pre-process the data (replace missing values, normalize, etc.)\n",
    " * Remove strongly correlated features using Spearman correlation\n",
    " * Run dimensionality reduction using UMAP\n",
    " * Build an unsupervised clustering model and classify the cells\n",
    " * Visualize the results using Datashader, Bokeh, and HoloViews\n",
    " * Save the result to OMERO.tables for visualization with [PathViewer](https://www.glencoesoftware.com/products/pathviewer/) and [Pageant](https://www.glencoesoftware.com/products/pageant/), or other downstream workflows"
   ]
  },
  {
   "cell_type": "code",
   "execution_count": 1,
   "metadata": {},
   "outputs": [],
   "source": [
    "import logging\n",
    "\n",
    "numba_logger = logging.getLogger('numba')\n",
    "numba_logger.setLevel(logging.WARNING)"
   ]
  },
  {
   "cell_type": "code",
   "execution_count": 2,
   "metadata": {},
   "outputs": [],
   "source": [
    "%%capture\n",
    "\n",
    "from umap import UMAP"
   ]
  },
  {
   "cell_type": "code",
   "execution_count": 3,
   "metadata": {},
   "outputs": [],
   "source": [
    "%%capture\n",
    "\n",
    "import os\n",
    "import pandas as pd\n",
    "import omero2pandas\n",
    "import numpy as np\n",
    "from scipy.stats import spearmanr\n",
    "from sklearn.cluster import Birch\n",
    "from sklearn.preprocessing import StandardScaler\n",
    "from sklearn.metrics import calinski_harabasz_score, davies_bouldin_score\n",
    "from umap import UMAP\n",
    "from sklearn.decomposition import PCA\n",
    "import holoviews as hv\n",
    "import holoviews.operation.datashader as hd\n",
    "from bokeh.models import HoverTool\n",
    "from holoviews import opts\n",
    "import datashader as ds\n",
    "from matplotlib.colors import ListedColormap\n",
    "from bokeh.palettes import Viridis256\n",
    "from bokeh.plotting import show\n",
    "\n",
    "hv.extension('bokeh')"
   ]
  },
  {
   "cell_type": "code",
   "execution_count": 4,
   "metadata": {},
   "outputs": [],
   "source": [
    "import skimage.exposure\n",
    "import shapely\n",
    "import shapely.wkt\n",
    "import math\n",
    "import shapely.affinity\n",
    "import matplotlib.pyplot as plt"
   ]
  },
  {
   "attachments": {},
   "cell_type": "markdown",
   "metadata": {},
   "source": [
    "#### Define variables and OMERO IDs that will be used for the next steps"
   ]
  },
  {
   "cell_type": "code",
   "execution_count": 5,
   "metadata": {},
   "outputs": [],
   "source": [
    "# Define the image and table IDs\n",
    "# Image ID will be used to link the uploaded table to the image\n",
    "IMAGE_ID = 1912\n",
    "# Table ID\n",
    "TABLE_FILE_ID = 14510\n",
    "# Analysis ID - distinct name for the local files and the table\n",
    "# Can also use uuid lib to generate a random ID\n",
    "ANALYSIS_ID = \"95a5420c-9732-4a49-961c-cf43264a7b50\"\n",
    "\n",
    "# Where to store the downloaded table?\n",
    "table_path = f\"./objects_{ANALYSIS_ID}.csv\"\n",
    "# The name will be used as OMERO.table name\n",
    "output_table_name = f\"{ANALYSIS_ID}_unsupervised_clustering\"\n",
    "# Store outputs locally\n",
    "output_table_path = f\"{output_table_name}.csv\""
   ]
  },
  {
   "attachments": {},
   "cell_type": "markdown",
   "metadata": {},
   "source": [
    "#### Load the table from OMERO and save it locally for future us"
   ]
  },
  {
   "attachments": {},
   "cell_type": "markdown",
   "metadata": {},
   "source": [
    "If [omero-user-token](https://github.com/glencoesoftware/omero-user-token) is installed and valid [omero2pandas](https://github.com/glencoesoftware/omero2pandas) will use it automatically for the OMERO.server connection otherwise it will ask for the connection details."
   ]
  },
  {
   "attachments": {},
   "cell_type": "markdown",
   "metadata": {},
   "source": [
    "##### Without omero-user-token"
   ]
  },
  {
   "cell_type": "code",
   "execution_count": 5,
   "metadata": {},
   "outputs": [
    {
     "name": "stdout",
     "output_type": "stream",
     "text": [
      "Connected to apps.dev.omero-plus.io\n"
     ]
    }
   ],
   "source": [
    "# Initialize Connector\n",
    "connector = omero2pandas.connect_to_omero(\n",
    "    server=\"where.is.your.omero.server\",\n",
    "    username=\"what.is.your.username\",\n",
    "    password=\"what.is.your.password\")"
   ]
  },
  {
   "cell_type": "code",
   "execution_count": 6,
   "metadata": {},
   "outputs": [
    {
     "data": {
      "application/vnd.jupyter.widget-view+json": {
       "model_id": "e5507d54e27a4473b56102c39eea705e",
       "version_major": 2,
       "version_minor": 0
      },
      "text/plain": [
       "Downloading table from OMERO:   0%|          | 0/1201949 rows, 00:00 "
      ]
     },
     "metadata": {},
     "output_type": "display_data"
    }
   ],
   "source": [
    "# Load the data\n",
    "omero2pandas.download_table(\n",
    "    table_path, file_id=TABLE_FILE_ID, chunk_size=10000,\n",
    "    omero_connector=connector)"
   ]
  },
  {
   "attachments": {},
   "cell_type": "markdown",
   "metadata": {},
   "source": [
    "##### With omero-user-token"
   ]
  },
  {
   "cell_type": "code",
   "execution_count": 14,
   "metadata": {},
   "outputs": [
    {
     "name": "stdout",
     "output_type": "stream",
     "text": [
      "Connected to apps.dev.omero-plus.io\n"
     ]
    },
    {
     "name": "stderr",
     "output_type": "stream",
     "text": [
      "Downloading table from OMERO: 100%|██████████| 1201949/1201949 rows, 2:33:11 \n"
     ]
    }
   ],
   "source": [
    "# Load the data, auth and connection is handled via omero-user-token\n",
    "omero2pandas.download_table(\n",
    "    table_path, file_id=TABLE_FILE_ID, chunk_size=10000)"
   ]
  },
  {
   "attachments": {},
   "cell_type": "markdown",
   "metadata": {},
   "source": [
    "#### Load the table from disk"
   ]
  },
  {
   "cell_type": "code",
   "execution_count": 6,
   "metadata": {},
   "outputs": [],
   "source": [
    "# Skip columns that are not needed for clustering\n",
    "columns_to_skip = [\n",
    "    \"prob\", \"polygon\", \"centroid\", \"bbox_min_x\", \"bbox_min_y\", \"bbox_max_x\", \"bbox_max_y\",\n",
    "    \"prob_thresh\", \"nms_thresh\", \"polygon_centroid_x\", \"polygon_centroid_y\", \"polygon_bbox\",\n",
    "    \"polygon_min_rot_rect\", \"raster_centroid_y\", \"raster_centroid_x\", \"tile_index\",\n",
    "    \"nearest_object\", \"roi\"\n",
    "]"
   ]
  },
  {
   "cell_type": "code",
   "execution_count": 6,
   "metadata": {},
   "outputs": [],
   "source": [
    "# From dist, needs to be switched to omero2pandas\n",
    "df = pd.read_csv(\n",
    "    table_path,\n",
    "    usecols=lambda column: column not in columns_to_skip\n",
    ")"
   ]
  },
  {
   "attachments": {},
   "cell_type": "markdown",
   "metadata": {},
   "source": [
    "#### Preprocess the data (replace missing values, normalize, etc.)"
   ]
  },
  {
   "cell_type": "code",
   "execution_count": 8,
   "metadata": {},
   "outputs": [
    {
     "name": "stdout",
     "output_type": "stream",
     "text": [
      "Shape raw: (500000, 307)\n"
     ]
    }
   ],
   "source": [
    "df.fillna(df.mean(), inplace=True)\n",
    "scaler = StandardScaler()\n",
    "df_scaled = scaler.fit_transform(df)\n",
    "print(f\"Shape raw: {df_scaled.shape}\")"
   ]
  },
  {
   "attachments": {},
   "cell_type": "markdown",
   "metadata": {},
   "source": [
    "#### Remove strongly correlated features using Spearman correlation"
   ]
  },
  {
   "cell_type": "code",
   "execution_count": 10,
   "metadata": {},
   "outputs": [
    {
     "name": "stdout",
     "output_type": "stream",
     "text": [
      "Found 0 to remove\n",
      "Shape spearmaned: (500000, 82)\n"
     ]
    }
   ],
   "source": [
    "corr_matrix, _ = spearmanr(df_scaled)\n",
    "corr_threshold = 0.9\n",
    "\n",
    "corr_matrix = np.abs(corr_matrix)\n",
    "np.fill_diagonal(corr_matrix, 0)\n",
    "cols_to_remove = []\n",
    "for i in range(corr_matrix.shape[0]):\n",
    "    for j in range(i+1, corr_matrix.shape[1]):\n",
    "        if corr_matrix[i, j] > corr_threshold:\n",
    "            cols_to_remove.append(j)\n",
    "\n",
    "# Remove correlated columns\n",
    "print(f\"Found {len(set(cols_to_remove))} to remove\")\n",
    "df_scaled = df_scaled[:, list(set(range(df_scaled.shape[1])) - set(cols_to_remove))]\n",
    "print(f\"Shape spearmaned: {df_scaled.shape}\")"
   ]
  },
  {
   "attachments": {},
   "cell_type": "markdown",
   "metadata": {},
   "source": [
    "#### Dimensionality reduction using UMAP"
   ]
  },
  {
   "cell_type": "code",
   "execution_count": 11,
   "metadata": {},
   "outputs": [],
   "source": [
    "%%capture\n",
    "\n",
    "# pca = PCA(n_components=2)\n",
    "# df_reduced = pca.fit_transform(df_scaled)\n",
    "\n",
    "reducer = UMAP(n_components=2, low_memory=True)\n",
    "df_reduced = reducer.fit_transform(df_scaled)"
   ]
  },
  {
   "attachments": {},
   "cell_type": "markdown",
   "metadata": {},
   "source": [
    "#### Clustering"
   ]
  },
  {
   "attachments": {},
   "cell_type": "markdown",
   "metadata": {},
   "source": [
    "#### Find optimum number of clusters"
   ]
  },
  {
   "cell_type": "code",
   "execution_count": 6,
   "metadata": {},
   "outputs": [
    {
     "name": "stdout",
     "output_type": "stream",
     "text": [
      "2\n",
      "3\n",
      "4\n",
      "5\n",
      "6\n",
      "7\n",
      "8\n",
      "9\n",
      "10\n",
      "11\n",
      "12\n",
      "13\n",
      "14\n",
      "15\n",
      "16\n",
      "17\n",
      "18\n",
      "CH: [8548.830968561631, 162211.8353836989, 148992.0861990337, 112811.98844055133, 94847.49221796962, 87051.16909739483, 74766.08259322333, 221475.5876233015, 197432.91026139422, 177856.44290296585, 183383.389271722, 168758.47089394837, 156408.5393031664, 145593.9235561664, 159068.59359019483, 149182.27681486125, 140533.80766651587]\n",
      "DB: [0.49892720615123287, 0.9217888985503627, 0.8411822051366689, 0.6707548957074821, 0.6397796808260114, 0.6537660028222555, 0.6895218943334774, 0.6652803098474886, 0.6546078678670433, 0.5686382541344497, 0.602495089992296, 0.6646700112893077, 0.6763088591226946, 0.692985699833145, 0.7258272236991318, 0.6675323651614432, 0.6706590058235556]\n",
      "Optimal CH: 9, Optimal DB: 2\n",
      "Number of clusters identified: 2\n"
     ]
    }
   ],
   "source": [
    "# Define the range of clusters to try\n",
    "n_clusters_range = range(2, 19)\n",
    "ch_scores = []\n",
    "db_scores = []\n",
    "\n",
    "for n_clusters in n_clusters_range:\n",
    "    print(n_clusters)\n",
    "    birch = Birch(n_clusters=n_clusters, branching_factor=50, threshold=0.5)\n",
    "    clusters = birch.fit_predict(df_reduced)\n",
    "    ch_score = calinski_harabasz_score(df_reduced, clusters)\n",
    "    ch_scores.append(ch_score)\n",
    "    db_score = davies_bouldin_score(df_reduced, clusters)\n",
    "    db_scores.append(db_score)\n",
    "\n",
    "# Find the optimal number of clusters using the elbow method\n",
    "optimal_clusters_ch = n_clusters_range[np.argmax(ch_scores)]\n",
    "optimal_clusters_db = n_clusters_range[np.argmin(db_scores)]\n",
    "print(f\"CH: {ch_scores}\")\n",
    "print(f\"DB: {db_scores}\")\n",
    "print(f\"Optimal CH: {optimal_clusters_ch}, Optimal DB: {optimal_clusters_db}\")\n",
    "\n",
    "n_clusters = min([optimal_clusters_ch, optimal_clusters_db])\n",
    "\n",
    "# Calculate clusters\n",
    "\n",
    "birch = Birch(n_clusters=n_clusters, branching_factor=50, threshold=0.5)\n",
    "clusters = birch.fit_predict(df_reduced)\n",
    "print(f'Number of clusters identified: {len(np.unique(clusters))}')"
   ]
  },
  {
   "attachments": {},
   "cell_type": "markdown",
   "metadata": {},
   "source": [
    "#### Or use a fixed number"
   ]
  },
  {
   "cell_type": "code",
   "execution_count": 12,
   "metadata": {},
   "outputs": [
    {
     "name": "stdout",
     "output_type": "stream",
     "text": [
      "Number of clusters identified: 5\n"
     ]
    }
   ],
   "source": [
    "n_clusters = 5\n",
    "birch = Birch(n_clusters=5, branching_factor=50, threshold=0.5)\n",
    "clusters = birch.fit_predict(df_reduced)\n",
    "print(f'Number of clusters identified: {len(np.unique(clusters))}')"
   ]
  },
  {
   "attachments": {},
   "cell_type": "markdown",
   "metadata": {},
   "source": [
    "#### Visualize the results using Datashader, Bokeh, and HoloViews"
   ]
  },
  {
   "cell_type": "code",
   "execution_count": 9,
   "metadata": {},
   "outputs": [],
   "source": [
    "colors = ['#FFA500', '#FF00FF', '#00FFFF', '#FFFF00', '#FF0000']\n",
    "cmap = ListedColormap(colors)"
   ]
  },
  {
   "cell_type": "code",
   "execution_count": 13,
   "metadata": {},
   "outputs": [
    {
     "data": {
      "text/html": [
       "<div>\n",
       "<style scoped>\n",
       "    .dataframe tbody tr th:only-of-type {\n",
       "        vertical-align: middle;\n",
       "    }\n",
       "\n",
       "    .dataframe tbody tr th {\n",
       "        vertical-align: top;\n",
       "    }\n",
       "\n",
       "    .dataframe thead th {\n",
       "        text-align: right;\n",
       "    }\n",
       "</style>\n",
       "<table border=\"1\" class=\"dataframe\">\n",
       "  <thead>\n",
       "    <tr style=\"text-align: right;\">\n",
       "      <th></th>\n",
       "      <th>UMAP1</th>\n",
       "      <th>UMAP2</th>\n",
       "      <th>Cluster</th>\n",
       "    </tr>\n",
       "  </thead>\n",
       "  <tbody>\n",
       "    <tr>\n",
       "      <th>0</th>\n",
       "      <td>12.559985</td>\n",
       "      <td>-0.156121</td>\n",
       "      <td>1</td>\n",
       "    </tr>\n",
       "    <tr>\n",
       "      <th>1</th>\n",
       "      <td>10.789196</td>\n",
       "      <td>0.583535</td>\n",
       "      <td>1</td>\n",
       "    </tr>\n",
       "    <tr>\n",
       "      <th>2</th>\n",
       "      <td>10.038660</td>\n",
       "      <td>0.362964</td>\n",
       "      <td>1</td>\n",
       "    </tr>\n",
       "    <tr>\n",
       "      <th>3</th>\n",
       "      <td>10.465014</td>\n",
       "      <td>0.335364</td>\n",
       "      <td>1</td>\n",
       "    </tr>\n",
       "    <tr>\n",
       "      <th>4</th>\n",
       "      <td>9.910857</td>\n",
       "      <td>0.645336</td>\n",
       "      <td>1</td>\n",
       "    </tr>\n",
       "  </tbody>\n",
       "</table>\n",
       "</div>"
      ],
      "text/plain": [
       "       UMAP1     UMAP2  Cluster\n",
       "0  12.559985 -0.156121        1\n",
       "1  10.789196  0.583535        1\n",
       "2  10.038660  0.362964        1\n",
       "3  10.465014  0.335364        1\n",
       "4   9.910857  0.645336        1"
      ]
     },
     "execution_count": 13,
     "metadata": {},
     "output_type": "execute_result"
    }
   ],
   "source": [
    "df_reduced_labels = pd.DataFrame(df_reduced, columns=['UMAP1', 'UMAP2'])\n",
    "df_reduced_labels['Cluster'] = clusters\n",
    "df_reduced_labels.head()"
   ]
  },
  {
   "cell_type": "code",
   "execution_count": 14,
   "metadata": {},
   "outputs": [],
   "source": [
    "colors = ['#FFA500', '#FF00FF', '#00FFFF', '#FFFF00', '#FF0000']\n",
    "cmap = ListedColormap(colors)\n",
    "\n",
    "df_reduced_labels = pd.DataFrame(df_reduced, columns=['UMAP1', 'UMAP2'])\n",
    "df_reduced_labels['Cluster'] = clusters\n",
    "points = hv.Points(df_reduced_labels, kdims=['UMAP1', 'UMAP2'], vdims=['Cluster'])"
   ]
  },
  {
   "cell_type": "code",
   "execution_count": 15,
   "metadata": {},
   "outputs": [
    {
     "data": {
      "text/html": [
       "<div style=\"display: table;\"><div style=\"display: table-row;\"><div style=\"display: table-cell;\"><b title=\"bokeh.plotting.figure.Figure\">Figure</b>(</div><div style=\"display: table-cell;\">id&nbsp;=&nbsp;'1006', <span id=\"1067\" style=\"cursor: pointer;\">&hellip;)</span></div></div><div class=\"1066\" style=\"display: none;\"><div style=\"display: table-cell;\"></div><div style=\"display: table-cell;\">above&nbsp;=&nbsp;[],</div></div><div class=\"1066\" style=\"display: none;\"><div style=\"display: table-cell;\"></div><div style=\"display: table-cell;\">align&nbsp;=&nbsp;'start',</div></div><div class=\"1066\" style=\"display: none;\"><div style=\"display: table-cell;\"></div><div style=\"display: table-cell;\">aspect_ratio&nbsp;=&nbsp;None,</div></div><div class=\"1066\" style=\"display: none;\"><div style=\"display: table-cell;\"></div><div style=\"display: table-cell;\">aspect_scale&nbsp;=&nbsp;1,</div></div><div class=\"1066\" style=\"display: none;\"><div style=\"display: table-cell;\"></div><div style=\"display: table-cell;\">background&nbsp;=&nbsp;None,</div></div><div class=\"1066\" style=\"display: none;\"><div style=\"display: table-cell;\"></div><div style=\"display: table-cell;\">background_fill_alpha&nbsp;=&nbsp;1.0,</div></div><div class=\"1066\" style=\"display: none;\"><div style=\"display: table-cell;\"></div><div style=\"display: table-cell;\">background_fill_color&nbsp;=&nbsp;'#ffffff',</div></div><div class=\"1066\" style=\"display: none;\"><div style=\"display: table-cell;\"></div><div style=\"display: table-cell;\">below&nbsp;=&nbsp;[LinearAxis(id='1015', ...)],</div></div><div class=\"1066\" style=\"display: none;\"><div style=\"display: table-cell;\"></div><div style=\"display: table-cell;\">border_fill_alpha&nbsp;=&nbsp;1.0,</div></div><div class=\"1066\" style=\"display: none;\"><div style=\"display: table-cell;\"></div><div style=\"display: table-cell;\">border_fill_color&nbsp;=&nbsp;'#ffffff',</div></div><div class=\"1066\" style=\"display: none;\"><div style=\"display: table-cell;\"></div><div style=\"display: table-cell;\">center&nbsp;=&nbsp;[Grid(id='1018', ...), Grid(id='1022', ...)],</div></div><div class=\"1066\" style=\"display: none;\"><div style=\"display: table-cell;\"></div><div style=\"display: table-cell;\">css_classes&nbsp;=&nbsp;[],</div></div><div class=\"1066\" style=\"display: none;\"><div style=\"display: table-cell;\"></div><div style=\"display: table-cell;\">disabled&nbsp;=&nbsp;False,</div></div><div class=\"1066\" style=\"display: none;\"><div style=\"display: table-cell;\"></div><div style=\"display: table-cell;\">extra_x_ranges&nbsp;=&nbsp;{},</div></div><div class=\"1066\" style=\"display: none;\"><div style=\"display: table-cell;\"></div><div style=\"display: table-cell;\">extra_x_scales&nbsp;=&nbsp;{},</div></div><div class=\"1066\" style=\"display: none;\"><div style=\"display: table-cell;\"></div><div style=\"display: table-cell;\">extra_y_ranges&nbsp;=&nbsp;{},</div></div><div class=\"1066\" style=\"display: none;\"><div style=\"display: table-cell;\"></div><div style=\"display: table-cell;\">extra_y_scales&nbsp;=&nbsp;{},</div></div><div class=\"1066\" style=\"display: none;\"><div style=\"display: table-cell;\"></div><div style=\"display: table-cell;\">frame_height&nbsp;=&nbsp;None,</div></div><div class=\"1066\" style=\"display: none;\"><div style=\"display: table-cell;\"></div><div style=\"display: table-cell;\">frame_width&nbsp;=&nbsp;None,</div></div><div class=\"1066\" style=\"display: none;\"><div style=\"display: table-cell;\"></div><div style=\"display: table-cell;\">height&nbsp;=&nbsp;800,</div></div><div class=\"1066\" style=\"display: none;\"><div style=\"display: table-cell;\"></div><div style=\"display: table-cell;\">height_policy&nbsp;=&nbsp;'auto',</div></div><div class=\"1066\" style=\"display: none;\"><div style=\"display: table-cell;\"></div><div style=\"display: table-cell;\">hidpi&nbsp;=&nbsp;True,</div></div><div class=\"1066\" style=\"display: none;\"><div style=\"display: table-cell;\"></div><div style=\"display: table-cell;\">inner_height&nbsp;=&nbsp;0,</div></div><div class=\"1066\" style=\"display: none;\"><div style=\"display: table-cell;\"></div><div style=\"display: table-cell;\">inner_width&nbsp;=&nbsp;0,</div></div><div class=\"1066\" style=\"display: none;\"><div style=\"display: table-cell;\"></div><div style=\"display: table-cell;\">js_event_callbacks&nbsp;=&nbsp;{'rangesupdate': [CustomJS(id='1051', ...)]},</div></div><div class=\"1066\" style=\"display: none;\"><div style=\"display: table-cell;\"></div><div style=\"display: table-cell;\">js_property_callbacks&nbsp;=&nbsp;{},</div></div><div class=\"1066\" style=\"display: none;\"><div style=\"display: table-cell;\"></div><div style=\"display: table-cell;\">left&nbsp;=&nbsp;[LinearAxis(id='1019', ...)],</div></div><div class=\"1066\" style=\"display: none;\"><div style=\"display: table-cell;\"></div><div style=\"display: table-cell;\">lod_factor&nbsp;=&nbsp;10,</div></div><div class=\"1066\" style=\"display: none;\"><div style=\"display: table-cell;\"></div><div style=\"display: table-cell;\">lod_interval&nbsp;=&nbsp;300,</div></div><div class=\"1066\" style=\"display: none;\"><div style=\"display: table-cell;\"></div><div style=\"display: table-cell;\">lod_threshold&nbsp;=&nbsp;2000,</div></div><div class=\"1066\" style=\"display: none;\"><div style=\"display: table-cell;\"></div><div style=\"display: table-cell;\">lod_timeout&nbsp;=&nbsp;500,</div></div><div class=\"1066\" style=\"display: none;\"><div style=\"display: table-cell;\"></div><div style=\"display: table-cell;\">margin&nbsp;=&nbsp;None,</div></div><div class=\"1066\" style=\"display: none;\"><div style=\"display: table-cell;\"></div><div style=\"display: table-cell;\">match_aspect&nbsp;=&nbsp;False,</div></div><div class=\"1066\" style=\"display: none;\"><div style=\"display: table-cell;\"></div><div style=\"display: table-cell;\">max_height&nbsp;=&nbsp;None,</div></div><div class=\"1066\" style=\"display: none;\"><div style=\"display: table-cell;\"></div><div style=\"display: table-cell;\">max_width&nbsp;=&nbsp;None,</div></div><div class=\"1066\" style=\"display: none;\"><div style=\"display: table-cell;\"></div><div style=\"display: table-cell;\">min_border&nbsp;=&nbsp;5,</div></div><div class=\"1066\" style=\"display: none;\"><div style=\"display: table-cell;\"></div><div style=\"display: table-cell;\">min_border_bottom&nbsp;=&nbsp;10,</div></div><div class=\"1066\" style=\"display: none;\"><div style=\"display: table-cell;\"></div><div style=\"display: table-cell;\">min_border_left&nbsp;=&nbsp;10,</div></div><div class=\"1066\" style=\"display: none;\"><div style=\"display: table-cell;\"></div><div style=\"display: table-cell;\">min_border_right&nbsp;=&nbsp;10,</div></div><div class=\"1066\" style=\"display: none;\"><div style=\"display: table-cell;\"></div><div style=\"display: table-cell;\">min_border_top&nbsp;=&nbsp;10,</div></div><div class=\"1066\" style=\"display: none;\"><div style=\"display: table-cell;\"></div><div style=\"display: table-cell;\">min_height&nbsp;=&nbsp;None,</div></div><div class=\"1066\" style=\"display: none;\"><div style=\"display: table-cell;\"></div><div style=\"display: table-cell;\">min_width&nbsp;=&nbsp;None,</div></div><div class=\"1066\" style=\"display: none;\"><div style=\"display: table-cell;\"></div><div style=\"display: table-cell;\">name&nbsp;=&nbsp;None,</div></div><div class=\"1066\" style=\"display: none;\"><div style=\"display: table-cell;\"></div><div style=\"display: table-cell;\">outer_height&nbsp;=&nbsp;0,</div></div><div class=\"1066\" style=\"display: none;\"><div style=\"display: table-cell;\"></div><div style=\"display: table-cell;\">outer_width&nbsp;=&nbsp;0,</div></div><div class=\"1066\" style=\"display: none;\"><div style=\"display: table-cell;\"></div><div style=\"display: table-cell;\">outline_line_alpha&nbsp;=&nbsp;1.0,</div></div><div class=\"1066\" style=\"display: none;\"><div style=\"display: table-cell;\"></div><div style=\"display: table-cell;\">outline_line_cap&nbsp;=&nbsp;'butt',</div></div><div class=\"1066\" style=\"display: none;\"><div style=\"display: table-cell;\"></div><div style=\"display: table-cell;\">outline_line_color&nbsp;=&nbsp;'#e5e5e5',</div></div><div class=\"1066\" style=\"display: none;\"><div style=\"display: table-cell;\"></div><div style=\"display: table-cell;\">outline_line_dash&nbsp;=&nbsp;[],</div></div><div class=\"1066\" style=\"display: none;\"><div style=\"display: table-cell;\"></div><div style=\"display: table-cell;\">outline_line_dash_offset&nbsp;=&nbsp;0,</div></div><div class=\"1066\" style=\"display: none;\"><div style=\"display: table-cell;\"></div><div style=\"display: table-cell;\">outline_line_join&nbsp;=&nbsp;'bevel',</div></div><div class=\"1066\" style=\"display: none;\"><div style=\"display: table-cell;\"></div><div style=\"display: table-cell;\">outline_line_width&nbsp;=&nbsp;1,</div></div><div class=\"1066\" style=\"display: none;\"><div style=\"display: table-cell;\"></div><div style=\"display: table-cell;\">output_backend&nbsp;=&nbsp;'webgl',</div></div><div class=\"1066\" style=\"display: none;\"><div style=\"display: table-cell;\"></div><div style=\"display: table-cell;\">renderers&nbsp;=&nbsp;[GlyphRenderer(id='1042', ...)],</div></div><div class=\"1066\" style=\"display: none;\"><div style=\"display: table-cell;\"></div><div style=\"display: table-cell;\">reset_policy&nbsp;=&nbsp;'standard',</div></div><div class=\"1066\" style=\"display: none;\"><div style=\"display: table-cell;\"></div><div style=\"display: table-cell;\">right&nbsp;=&nbsp;[],</div></div><div class=\"1066\" style=\"display: none;\"><div style=\"display: table-cell;\"></div><div style=\"display: table-cell;\">sizing_mode&nbsp;=&nbsp;'fixed',</div></div><div class=\"1066\" style=\"display: none;\"><div style=\"display: table-cell;\"></div><div style=\"display: table-cell;\">subscribed_events&nbsp;=&nbsp;['rangesupdate'],</div></div><div class=\"1066\" style=\"display: none;\"><div style=\"display: table-cell;\"></div><div style=\"display: table-cell;\">syncable&nbsp;=&nbsp;True,</div></div><div class=\"1066\" style=\"display: none;\"><div style=\"display: table-cell;\"></div><div style=\"display: table-cell;\">tags&nbsp;=&nbsp;[],</div></div><div class=\"1066\" style=\"display: none;\"><div style=\"display: table-cell;\"></div><div style=\"display: table-cell;\">title&nbsp;=&nbsp;Title(id='1007', ...),</div></div><div class=\"1066\" style=\"display: none;\"><div style=\"display: table-cell;\"></div><div style=\"display: table-cell;\">title_location&nbsp;=&nbsp;'above',</div></div><div class=\"1066\" style=\"display: none;\"><div style=\"display: table-cell;\"></div><div style=\"display: table-cell;\">toolbar&nbsp;=&nbsp;Toolbar(id='1029', ...),</div></div><div class=\"1066\" style=\"display: none;\"><div style=\"display: table-cell;\"></div><div style=\"display: table-cell;\">toolbar_location&nbsp;=&nbsp;'right',</div></div><div class=\"1066\" style=\"display: none;\"><div style=\"display: table-cell;\"></div><div style=\"display: table-cell;\">toolbar_sticky&nbsp;=&nbsp;True,</div></div><div class=\"1066\" style=\"display: none;\"><div style=\"display: table-cell;\"></div><div style=\"display: table-cell;\">visible&nbsp;=&nbsp;True,</div></div><div class=\"1066\" style=\"display: none;\"><div style=\"display: table-cell;\"></div><div style=\"display: table-cell;\">width&nbsp;=&nbsp;800,</div></div><div class=\"1066\" style=\"display: none;\"><div style=\"display: table-cell;\"></div><div style=\"display: table-cell;\">width_policy&nbsp;=&nbsp;'auto',</div></div><div class=\"1066\" style=\"display: none;\"><div style=\"display: table-cell;\"></div><div style=\"display: table-cell;\">x_range&nbsp;=&nbsp;Range1d(id='1003', ...),</div></div><div class=\"1066\" style=\"display: none;\"><div style=\"display: table-cell;\"></div><div style=\"display: table-cell;\">x_scale&nbsp;=&nbsp;LinearScale(id='1011', ...),</div></div><div class=\"1066\" style=\"display: none;\"><div style=\"display: table-cell;\"></div><div style=\"display: table-cell;\">y_range&nbsp;=&nbsp;Range1d(id='1004', ...),</div></div><div class=\"1066\" style=\"display: none;\"><div style=\"display: table-cell;\"></div><div style=\"display: table-cell;\">y_scale&nbsp;=&nbsp;LinearScale(id='1013', ...))</div></div></div>\n",
       "<script>\n",
       "(function() {\n",
       "  let expanded = false;\n",
       "  const ellipsis = document.getElementById(\"1067\");\n",
       "  ellipsis.addEventListener(\"click\", function() {\n",
       "    const rows = document.getElementsByClassName(\"1066\");\n",
       "    for (let i = 0; i < rows.length; i++) {\n",
       "      const el = rows[i];\n",
       "      el.style.display = expanded ? \"none\" : \"table-row\";\n",
       "    }\n",
       "    ellipsis.innerHTML = expanded ? \"&hellip;)\" : \"&lsaquo;&lsaquo;&lsaquo;\";\n",
       "    expanded = !expanded;\n",
       "  });\n",
       "})();\n",
       "</script>\n"
      ],
      "text/plain": [
       "Figure(id='1006', ...)"
      ]
     },
     "execution_count": 15,
     "metadata": {},
     "output_type": "execute_result"
    }
   ],
   "source": [
    "datashaded = hd.datashade(points, aggregator=ds.count_cat('Cluster'), color_key=cmap)\n",
    "hover = HoverTool(tooltips=[('Cluster', '@Cluster')])\n",
    "opts.defaults(opts.RGB(tools=[hover]))\n",
    "plot = datashaded.opts(width=800, height=800)\n",
    "hv.render(plot)"
   ]
  },
  {
   "attachments": {},
   "cell_type": "markdown",
   "metadata": {},
   "source": [
    "#### Show example cell for each label"
   ]
  },
  {
   "cell_type": "code",
   "execution_count": 17,
   "metadata": {},
   "outputs": [],
   "source": [
    "# Merge the original dataset with the new DataFrame on index\n",
    "df_original = pd.read_csv(table_path, usecols=['object'] + columns_to_skip)\n",
    "df_labeled = df_original.merge(df_reduced_labels, left_index=True, right_index=True)"
   ]
  },
  {
   "cell_type": "code",
   "execution_count": 18,
   "metadata": {},
   "outputs": [
    {
     "data": {
      "text/html": [
       "<div>\n",
       "<style scoped>\n",
       "    .dataframe tbody tr th:only-of-type {\n",
       "        vertical-align: middle;\n",
       "    }\n",
       "\n",
       "    .dataframe tbody tr th {\n",
       "        vertical-align: top;\n",
       "    }\n",
       "\n",
       "    .dataframe thead th {\n",
       "        text-align: right;\n",
       "    }\n",
       "</style>\n",
       "<table border=\"1\" class=\"dataframe\">\n",
       "  <thead>\n",
       "    <tr style=\"text-align: right;\">\n",
       "      <th></th>\n",
       "      <th>object</th>\n",
       "      <th>prob</th>\n",
       "      <th>polygon</th>\n",
       "      <th>centroid</th>\n",
       "      <th>bbox_min_x</th>\n",
       "      <th>bbox_min_y</th>\n",
       "      <th>bbox_max_x</th>\n",
       "      <th>bbox_max_y</th>\n",
       "      <th>prob_thresh</th>\n",
       "      <th>nms_thresh</th>\n",
       "      <th>...</th>\n",
       "      <th>polygon_bbox</th>\n",
       "      <th>polygon_min_rot_rect</th>\n",
       "      <th>raster_centroid_y</th>\n",
       "      <th>raster_centroid_x</th>\n",
       "      <th>tile_index</th>\n",
       "      <th>nearest_object</th>\n",
       "      <th>roi</th>\n",
       "      <th>UMAP1</th>\n",
       "      <th>UMAP2</th>\n",
       "      <th>Cluster</th>\n",
       "    </tr>\n",
       "  </thead>\n",
       "  <tbody>\n",
       "    <tr>\n",
       "      <th>0</th>\n",
       "      <td>1</td>\n",
       "      <td>0.483748</td>\n",
       "      <td>POLYGON ((746.704345703125 10160, 746.33465576...</td>\n",
       "      <td>POINT (742.8420755280428 10160.00173679036)</td>\n",
       "      <td>739.195618</td>\n",
       "      <td>10156.444336</td>\n",
       "      <td>746.704346</td>\n",
       "      <td>10163.665039</td>\n",
       "      <td>0.479071</td>\n",
       "      <td>0.3</td>\n",
       "      <td>...</td>\n",
       "      <td>POLYGON ((739.1956176757812 10156.4443359375, ...</td>\n",
       "      <td>POLYGON ((746.9015607102662 10163.37895624251,...</td>\n",
       "      <td>10159.550000</td>\n",
       "      <td>742.250000</td>\n",
       "      <td>11</td>\n",
       "      <td>-1</td>\n",
       "      <td>2038</td>\n",
       "      <td>12.559985</td>\n",
       "      <td>-0.156121</td>\n",
       "      <td>1</td>\n",
       "    </tr>\n",
       "    <tr>\n",
       "      <th>1</th>\n",
       "      <td>2</td>\n",
       "      <td>0.912714</td>\n",
       "      <td>POLYGON ((901.2435302734375 27912, 900.5768432...</td>\n",
       "      <td>POINT (889.8568234644157 27912.035999986587)</td>\n",
       "      <td>878.947937</td>\n",
       "      <td>27898.771484</td>\n",
       "      <td>901.243530</td>\n",
       "      <td>27925.275391</td>\n",
       "      <td>0.479071</td>\n",
       "      <td>0.3</td>\n",
       "      <td>...</td>\n",
       "      <td>POLYGON ((878.9479370117188 27898.771484375, 9...</td>\n",
       "      <td>POLYGON ((876.4823036524576 27922.94341846238,...</td>\n",
       "      <td>27911.561555</td>\n",
       "      <td>889.360691</td>\n",
       "      <td>30</td>\n",
       "      <td>7</td>\n",
       "      <td>2038</td>\n",
       "      <td>10.789196</td>\n",
       "      <td>0.583535</td>\n",
       "      <td>1</td>\n",
       "    </tr>\n",
       "    <tr>\n",
       "      <th>2</th>\n",
       "      <td>3</td>\n",
       "      <td>0.911478</td>\n",
       "      <td>POLYGON ((620.9896850585938 28112, 620.2854614...</td>\n",
       "      <td>POINT (610.0222623486634 28111.0383113105)</td>\n",
       "      <td>598.603149</td>\n",
       "      <td>28099.779297</td>\n",
       "      <td>620.989685</td>\n",
       "      <td>28122.238281</td>\n",
       "      <td>0.479071</td>\n",
       "      <td>0.3</td>\n",
       "      <td>...</td>\n",
       "      <td>POLYGON ((598.6031494140625 28099.779296875, 6...</td>\n",
       "      <td>POLYGON ((598.7960617217437 28122.4452065584, ...</td>\n",
       "      <td>28110.545455</td>\n",
       "      <td>609.540404</td>\n",
       "      <td>30</td>\n",
       "      <td>-1</td>\n",
       "      <td>2038</td>\n",
       "      <td>10.038660</td>\n",
       "      <td>0.362964</td>\n",
       "      <td>1</td>\n",
       "    </tr>\n",
       "    <tr>\n",
       "      <th>3</th>\n",
       "      <td>4</td>\n",
       "      <td>0.903430</td>\n",
       "      <td>POLYGON ((939.1497802734375 27838, 938.3896484...</td>\n",
       "      <td>POINT (926.5268208001696 27838.0755411473)</td>\n",
       "      <td>914.584717</td>\n",
       "      <td>27826.935547</td>\n",
       "      <td>939.149780</td>\n",
       "      <td>27849.691406</td>\n",
       "      <td>0.479071</td>\n",
       "      <td>0.3</td>\n",
       "      <td>...</td>\n",
       "      <td>POLYGON ((914.584716796875 27826.935546875, 93...</td>\n",
       "      <td>POLYGON ((940.6016025786357 27847.447551637953...</td>\n",
       "      <td>27671.543578</td>\n",
       "      <td>12.018349</td>\n",
       "      <td>30</td>\n",
       "      <td>10</td>\n",
       "      <td>2038</td>\n",
       "      <td>10.465014</td>\n",
       "      <td>0.335364</td>\n",
       "      <td>1</td>\n",
       "    </tr>\n",
       "    <tr>\n",
       "      <th>4</th>\n",
       "      <td>5</td>\n",
       "      <td>0.891712</td>\n",
       "      <td>POLYGON ((891.408203125 27892, 886.57360839843...</td>\n",
       "      <td>POINT (875.5334526718246 27890.43671011221)</td>\n",
       "      <td>857.480347</td>\n",
       "      <td>27878.464844</td>\n",
       "      <td>895.363708</td>\n",
       "      <td>27903.857422</td>\n",
       "      <td>0.479071</td>\n",
       "      <td>0.3</td>\n",
       "      <td>...</td>\n",
       "      <td>POLYGON ((857.4803466796875 27878.46484375, 89...</td>\n",
       "      <td>POLYGON ((899.093139403205 27896.741274306383,...</td>\n",
       "      <td>27671.986068</td>\n",
       "      <td>18.086687</td>\n",
       "      <td>30</td>\n",
       "      <td>15</td>\n",
       "      <td>2038</td>\n",
       "      <td>9.910857</td>\n",
       "      <td>0.645336</td>\n",
       "      <td>1</td>\n",
       "    </tr>\n",
       "  </tbody>\n",
       "</table>\n",
       "<p>5 rows × 22 columns</p>\n",
       "</div>"
      ],
      "text/plain": [
       "   object      prob                                            polygon   \n",
       "0       1  0.483748  POLYGON ((746.704345703125 10160, 746.33465576...  \\\n",
       "1       2  0.912714  POLYGON ((901.2435302734375 27912, 900.5768432...   \n",
       "2       3  0.911478  POLYGON ((620.9896850585938 28112, 620.2854614...   \n",
       "3       4  0.903430  POLYGON ((939.1497802734375 27838, 938.3896484...   \n",
       "4       5  0.891712  POLYGON ((891.408203125 27892, 886.57360839843...   \n",
       "\n",
       "                                       centroid  bbox_min_x    bbox_min_y   \n",
       "0   POINT (742.8420755280428 10160.00173679036)  739.195618  10156.444336  \\\n",
       "1  POINT (889.8568234644157 27912.035999986587)  878.947937  27898.771484   \n",
       "2    POINT (610.0222623486634 28111.0383113105)  598.603149  28099.779297   \n",
       "3    POINT (926.5268208001696 27838.0755411473)  914.584717  27826.935547   \n",
       "4   POINT (875.5334526718246 27890.43671011221)  857.480347  27878.464844   \n",
       "\n",
       "   bbox_max_x    bbox_max_y  prob_thresh  nms_thresh  ...   \n",
       "0  746.704346  10163.665039     0.479071         0.3  ...  \\\n",
       "1  901.243530  27925.275391     0.479071         0.3  ...   \n",
       "2  620.989685  28122.238281     0.479071         0.3  ...   \n",
       "3  939.149780  27849.691406     0.479071         0.3  ...   \n",
       "4  895.363708  27903.857422     0.479071         0.3  ...   \n",
       "\n",
       "                                        polygon_bbox   \n",
       "0  POLYGON ((739.1956176757812 10156.4443359375, ...  \\\n",
       "1  POLYGON ((878.9479370117188 27898.771484375, 9...   \n",
       "2  POLYGON ((598.6031494140625 28099.779296875, 6...   \n",
       "3  POLYGON ((914.584716796875 27826.935546875, 93...   \n",
       "4  POLYGON ((857.4803466796875 27878.46484375, 89...   \n",
       "\n",
       "                                polygon_min_rot_rect raster_centroid_y   \n",
       "0  POLYGON ((746.9015607102662 10163.37895624251,...      10159.550000  \\\n",
       "1  POLYGON ((876.4823036524576 27922.94341846238,...      27911.561555   \n",
       "2  POLYGON ((598.7960617217437 28122.4452065584, ...      28110.545455   \n",
       "3  POLYGON ((940.6016025786357 27847.447551637953...      27671.543578   \n",
       "4  POLYGON ((899.093139403205 27896.741274306383,...      27671.986068   \n",
       "\n",
       "  raster_centroid_x  tile_index  nearest_object   roi      UMAP1     UMAP2   \n",
       "0        742.250000          11              -1  2038  12.559985 -0.156121  \\\n",
       "1        889.360691          30               7  2038  10.789196  0.583535   \n",
       "2        609.540404          30              -1  2038  10.038660  0.362964   \n",
       "3         12.018349          30              10  2038  10.465014  0.335364   \n",
       "4         18.086687          30              15  2038   9.910857  0.645336   \n",
       "\n",
       "   Cluster  \n",
       "0        1  \n",
       "1        1  \n",
       "2        1  \n",
       "3        1  \n",
       "4        1  \n",
       "\n",
       "[5 rows x 22 columns]"
      ]
     },
     "execution_count": 18,
     "metadata": {},
     "output_type": "execute_result"
    }
   ],
   "source": [
    "df_labeled.head()"
   ]
  },
  {
   "cell_type": "code",
   "execution_count": 35,
   "metadata": {},
   "outputs": [],
   "source": [
    "to_grab = []\n",
    "for label in range(5):\n",
    "    poly = shapely.wkt.loads(df_labeled[df_labeled[\"Cluster\"] == label][\"polygon\"].iloc[5])\n",
    "    x1, y1, x2, y2 = poly.buffer(10).bounds\n",
    "    x1 = math.floor(x1)\n",
    "    y1 = math.floor(y1)\n",
    "    x2 = math.ceil(x2)\n",
    "    y2 = math.ceil(y2)\n",
    "    to_grab.append((label, poly, x1, y1, x2 - x1, y2 - y1))"
   ]
  },
  {
   "cell_type": "code",
   "execution_count": 43,
   "metadata": {},
   "outputs": [],
   "source": [
    "ims = []\n",
    "\n",
    "red_channel = 12\n",
    "green_channel = 7\n",
    "blue_channel = 0\n",
    "\n",
    "colors = (red_channel, green_channel, blue_channel)"
   ]
  },
  {
   "cell_type": "code",
   "execution_count": 44,
   "metadata": {},
   "outputs": [
    {
     "name": "stdout",
     "output_type": "stream",
     "text": [
      "Connected to apps.dev.omero-plus.io\n",
      "Gateway open\n",
      "Done  0\n",
      "Done  1\n",
      "Done  2\n",
      "Done  3\n",
      "Done  4\n",
      "Image data downloaded\n"
     ]
    }
   ],
   "source": [
    "max_h = max_w = 0\n",
    "for _, _, _, _, w, h in to_grab:\n",
    "    max_h = max(max_h, h)\n",
    "    max_w = max(max_w, w)\n",
    "    \n",
    "max_h = (int(math.ceil(max_h / 10.0)) * 10) + 1\n",
    "max_w = (int(math.ceil(max_w / 10.0)) * 10) + 1\n",
    "moved_polys = []\n",
    "\n",
    "ims = []\n",
    "with omero2pandas.connect_to_omero(\n",
    "        server=\"where.is.your.omero.server\",\n",
    "        username=\"what.is.your.username\",\n",
    "        password=\"what.is.your.password\") as connector:\n",
    "    conn = connector.get_gateway()\n",
    "    conn.SERVICE_OPTS.setOmeroGroup('-1')\n",
    "    print(\"Gateway open\")\n",
    "    img = conn.getObject(\"Image\", 1912)\n",
    "    pixel_fetcher = img.getPrimaryPixels()\n",
    "    for cluster_id, poly, x, y, _, _ in to_grab:\n",
    "        moved_poly = shapely.affinity.translate(poly, xoff=-x, yoff=-y)\n",
    "        moved_polys.append(moved_poly)\n",
    "        want = [(0, c, 0, (x, y, max_w, max_h)) for c in colors]\n",
    "        data = pixel_fetcher.getTiles(want)\n",
    "        ims.append(list(data))\n",
    "        print(\"Done \", cluster_id)\n",
    "print(\"Image data downloaded\")"
   ]
  },
  {
   "cell_type": "code",
   "execution_count": 48,
   "metadata": {},
   "outputs": [
    {
     "data": {
      "image/png": "[encoded data removed]",
      "text/plain": [
       "<Figure size 1500x400 with 5 Axes>"
      ]
     },
     "metadata": {},
     "output_type": "display_data"
    }
   ],
   "source": [
    "# Calculate display bounds\n",
    "blue_max = df['raster_01_Hoechst_intensity_max'].mean() + (df['raster_01_Hoechst_intensity_max'].std() * 2)\n",
    "red_max = df['raster_13_E-Cadherin_Argo730_intensity_max'].mean() + (df['raster_13_E-Cadherin_Argo730_intensity_max'].std() * 2)\n",
    "green_max = df['raster_08_CD4_Argo572_intensity_max'].mean() + (df['raster_08_CD4_Argo572_intensity_max'].std() * 2)\n",
    "\n",
    "fig, axs = plt.subplots(1, 5, sharex=True, sharey=True)\n",
    "fig.set_figheight(4)\n",
    "fig.set_figwidth(15)\n",
    "fig.suptitle(\"Representative Cells\")\n",
    "px = 0\n",
    "py = 0\n",
    "\n",
    "for i, img_data in enumerate(ims):\n",
    "    red, green, blue = img_data.copy()\n",
    "    poly = moved_polys[i]\n",
    "    red = skimage.exposure.rescale_intensity(red, in_range=(0, red_max), out_range=(0, 1))\n",
    "    green = skimage.exposure.rescale_intensity(green, in_range=(0, green_max), out_range=(0, 1))\n",
    "    blue = skimage.exposure.rescale_intensity(blue, in_range=(0, blue_max), out_range=(0, 1))\n",
    "    preview = np.dstack((red, green, blue))\n",
    "    \n",
    "    axs[px].imshow(preview)\n",
    "    axs[px].plot(*poly.exterior.xy, color=cmap(i))\n",
    "    axs[px].set_title(f\"Cluster {i}\")\n",
    "\n",
    "    px += 1"
   ]
  },
  {
   "attachments": {},
   "cell_type": "markdown",
   "metadata": {},
   "source": [
    "#### Save the result"
   ]
  },
  {
   "cell_type": "code",
   "execution_count": 35,
   "metadata": {},
   "outputs": [
    {
     "name": "stdout",
     "output_type": "stream",
     "text": [
      "Connected to apps.dev.omero-plus.io\n"
     ]
    },
    {
     "name": "stderr",
     "output_type": "stream",
     "text": [
      "Uploading table to OMERO: 100%|██████████| 1201949/1201949 rows, 53:44 \n"
     ]
    }
   ],
   "source": [
    "# Upload the table to OMERO\n",
    "ann_id = omero2pandas.upload_table(\n",
    "    df_labeled, output_table_name, IMAGE_ID, \"Image\", chunk_size=10000)"
   ]
  }
 ],
 "metadata": {
  "kernelspec": {
   "display_name": "notebooks.venv",
   "language": "python",
   "name": "python3"
  },
  "language_info": {
   "codemirror_mode": {
    "name": "ipython",
    "version": 3
   },
   "file_extension": ".py",
   "mimetype": "text/x-python",
   "name": "python",
   "nbconvert_exporter": "python",
   "pygments_lexer": "ipython3",
   "version": "3.8.6"
  },
  "orig_nbformat": 4
 },
 "nbformat": 4,
 "nbformat_minor": 2
}
