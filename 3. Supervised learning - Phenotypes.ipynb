{
 "cells": [
  {
   "cell_type": "markdown",
   "metadata": {},
   "source": [
    "Copyright (C) 2022 Glencoe Software, Inc.\n",
    "All Rights Reserved.\n",
    "\n",
    "This program is free software; you can redistribute it and/or modify\n",
    "it under the terms of the GNU General Public License as published by\n",
    "the Free Software Foundation; either version 2 of the License, or\n",
    "(at your option) any later version.\n",
    "\n",
    "This program is distributed in the hope that it will be useful,\n",
    "but WITHOUT ANY WARRANTY; without even the implied warranty of\n",
    "MERCHANTABILITY or FITNESS FOR A PARTICULAR PURPOSE.  See the\n",
    "GNU General Public License for more details.\n",
    "\n",
    "You should have received a copy of the GNU General Public License along\n",
    "with this program; if not, write to the Free Software Foundation, Inc.,\n",
    "51 Franklin Street, Fifth Floor, Boston, MA 02110-1301 USA."
   ]
  },
  {
   "cell_type": "markdown",
   "metadata": {},
   "source": [
    "# Working with the analytical data stored on the OMERO server"
   ]
  },
  {
   "cell_type": "markdown",
   "metadata": {},
   "source": [
    " * Train the classifier using positive and negtive control cells ([scikit-learn](http://scikit-learn.org/stable/modules/svm.html))\n",
    " * Use the trained classifier to count the number of negative and positive cells at each doseage level ([scikit-learn](http://scikit-learn.org/stable/modules/svm.html))"
   ]
  },
  {
   "cell_type": "markdown",
   "metadata": {},
   "source": [
    "This notebook demonstarates how to retrieve analytical data stored as an [OMERO.table](https://docs.openmicroscopy.org/omero-blitz/5.5.8/slice2html/omero/grid/Table.html) from the [OMERO.server](http://www.openmicroscopy.org/site/products/omero) and use it to run supervised machine learning algorithms using [scikit-learn](http://scikit-learn.org/stable/modules/svm.html).\n",
    "\n",
    "The example below uses the output of the image processing performed using the [CellProfiler](http://cellprofiler.org/) on the [SBS Bioimage](https://cellprofiler.org/previous-examples#human-cytoplasm-nucleus-translocation-assay-sbs-bioimage) dataset. Derived features (parameters describing cells' shape, instenisty and texture) are then used to build classifier using [scikit-learn](http://scikit-learn.org/stable/modules/svm.html) that can distinguish between the positive control and the negative control cells. Finally the classifier is used to score the number of postive and negative cells at the different dose levels."
   ]
  },
  {
   "cell_type": "markdown",
   "metadata": {},
   "source": [
    "### Connect to OMERO server"
   ]
  },
  {
   "cell_type": "code",
   "execution_count": 14,
   "metadata": {
    "collapsed": false
   },
   "outputs": [
    {
     "name": "stdout",
     "output_type": "stream",
     "text": [
      "Username: your_username\n",
      "OMERO Password: ········\n",
      "Host: your.server.address\n",
      "Port: 4064\n"
     ]
    },
    {
     "data": {
      "text/plain": [
       "False"
      ]
     },
     "execution_count": 14,
     "metadata": {},
     "output_type": "execute_result"
    }
   ],
   "source": [
    "import os\n",
    "import omero\n",
    "from omero.gateway import BlitzGateway\n",
    "\n",
    "import gs_analytics\n",
    "from getpass import getpass\n",
    "\n",
    "from getpass import getpass\n",
    "conn = BlitzGateway(\n",
    "    input(\"Username: \"), getpass(\"OMERO Password: \"),\n",
    "    host=input(\"Host: \"), port=int(input(\"Port: \")))\n",
    "conn.connect()"
   ]
  },
  {
   "cell_type": "markdown",
   "metadata": {},
   "source": [
    "### Import matplotlib"
   ]
  },
  {
   "cell_type": "code",
   "execution_count": 2,
   "metadata": {
    "collapsed": true
   },
   "outputs": [],
   "source": [
    "import matplotlib\n",
    "import numpy as np\n",
    "import matplotlib.pyplot as plt\n",
    "\n",
    "matplotlib.rcParams['figure.figsize'] = (12.0, 7.0)\n",
    "\n",
    "from IPython.display import display, HTML\n",
    "import pprint"
   ]
  },
  {
   "cell_type": "markdown",
   "metadata": {},
   "source": [
    "### Import scikit-learn"
   ]
  },
  {
   "cell_type": "code",
   "execution_count": 3,
   "metadata": {
    "collapsed": true
   },
   "outputs": [],
   "source": [
    "from sklearn.svm import LinearSVC\n",
    "from sklearn.feature_selection import SelectFromModel\n",
    "import sklearn.svm as svm\n",
    "from sklearn.preprocessing import StandardScaler"
   ]
  },
  {
   "cell_type": "markdown",
   "metadata": {},
   "source": [
    "### Request OMERO.table object"
   ]
  },
  {
   "cell_type": "code",
   "execution_count": 4,
   "metadata": {
    "collapsed": false
   },
   "outputs": [
    {
     "name": "stdout",
     "output_type": "stream",
     "text": [
      "OMERO.table file id: 66214\n",
      "First ten columns:\n",
      "['ImageNumber',\n",
      " 'ObjectNumber',\n",
      " 'Metadata_Column',\n",
      " 'Metadata_Row',\n",
      " 'Metadata_SBS_Controls',\n",
      " 'Metadata_SBS_Doses',\n",
      " 'Metadata_Well',\n",
      " 'AreaShape_Area',\n",
      " 'AreaShape_Center_X']\n",
      "\n",
      "Table contains 17876 rows\n"
     ]
    }
   ],
   "source": [
    "shared_resources = conn.c.sf.sharedResources()\n",
    "original_file_id = input(\"OMERO.table file id: \")\n",
    "original_file = omero.model.OriginalFileI(original_file_id, False)\n",
    "omero_table = shared_resources.openTable(original_file)\n",
    "column_names = [col.name for col in omero_table.getHeaders()]\n",
    "number_of_rows = omero_table.getNumberOfRows()\n",
    "print(f\"First ten columns:\\n{pprint.pformat(column_names[0:9])}\\n\")\n",
    "print(f\"Table contains {number_of_rows} rows\")"
   ]
  },
  {
   "cell_type": "markdown",
   "metadata": {},
   "source": [
    "### Select columns with numerical data"
   ]
  },
  {
   "cell_type": "code",
   "execution_count": 5,
   "metadata": {
    "collapsed": false
   },
   "outputs": [
    {
     "name": "stdout",
     "output_type": "stream",
     "text": [
      "Selected 78 columns.\n"
     ]
    }
   ],
   "source": [
    "black_list = [\n",
    "    'ImageNumber', 'ObjectNumber', 'Metadata_Column', 'Metadata_Row',\n",
    "    'Metadata_SBS_Controls', 'Metadata_SBS_Doses', 'Metadata_Well'\n",
    "]\n",
    "column_indices = []\n",
    "for column_name in column_names:\n",
    "    if column_name in black_list:\n",
    "        continue\n",
    "    column_indices.append(column_names.index(column_name))\n",
    "print(f\"Selected {len(column_indices)} columns.\")"
   ]
  },
  {
   "cell_type": "markdown",
   "metadata": {},
   "source": [
    "### Read in data and the column containing the class labels"
   ]
  },
  {
   "cell_type": "code",
   "execution_count": 6,
   "metadata": {
    "collapsed": false
   },
   "outputs": [],
   "source": [
    "table_data = omero_table.read(column_indices, 0, number_of_rows)\n",
    "data = []\n",
    "for index in range(number_of_rows):\n",
    "    row_values = [column.values[index] for column in table_data.columns]\n",
    "    data.append(row_values)\n",
    "label_column_index = column_names.index('Metadata_SBS_Doses')\n",
    "label_column = omero_table.read([label_column_index], 0, number_of_rows)\n",
    "label_column = label_column.columns[0].values\n",
    "class_labels = np.array(label_column)\n",
    "\n",
    "negative_dose = 0\n",
    "positive_dose = 10\n",
    "label_values = [negative_dose, positive_dose]"
   ]
  },
  {
   "cell_type": "markdown",
   "metadata": {},
   "source": [
    "### Train the classifier"
   ]
  },
  {
   "cell_type": "code",
   "execution_count": 7,
   "metadata": {
    "collapsed": true
   },
   "outputs": [],
   "source": [
    "def train_with_feature_selection(x, y):\n",
    "    '''\n",
    "    Train the classifier with the feature selection.\n",
    "    '''\n",
    "    etc = LinearSVC(penalty=\"l1\", dual=False)\n",
    "    etc = etc.fit(x, y)\n",
    "    model = SelectFromModel(etc, prefit=True)\n",
    "    x_new = model.transform(x)\n",
    "    print(f\"Selected {x_new.shape[1]} features using the linear SVC model.\")\n",
    "    clf = svm.SVC(kernel='linear', C=1)\n",
    "    clf.fit(x_new, y)\n",
    "    return {'clf': clf, 'model': model}"
   ]
  },
  {
   "cell_type": "code",
   "execution_count": 8,
   "metadata": {
    "collapsed": false
   },
   "outputs": [
    {
     "name": "stdout",
     "output_type": "stream",
     "text": [
      "Found 3152 rows for label 0\n",
      "Found 1692 rows for label 10\n"
     ]
    }
   ],
   "source": [
    "clf_samples = []\n",
    "clf_labels = []\n",
    "for value in label_values:\n",
    "    label_query = [int(x) == int(value) for x in class_labels]\n",
    "    positions = [i[0] for i in enumerate(label_query) if i[1]]\n",
    "    samples = [data[i] for i in positions]\n",
    "    labels = [value] * len(samples)\n",
    "    print(f\"Found {len(labels)} rows for label {value}\")\n",
    "    clf_samples.extend(samples)\n",
    "    clf_labels.extend(labels)"
   ]
  },
  {
   "cell_type": "code",
   "execution_count": 9,
   "metadata": {
    "collapsed": false
   },
   "outputs": [
    {
     "name": "stdout",
     "output_type": "stream",
     "text": [
      "Selected 42 features using the linear SVC model.\n"
     ]
    }
   ],
   "source": [
    "clf = train_with_feature_selection(clf_samples, clf_labels)"
   ]
  },
  {
   "cell_type": "markdown",
   "metadata": {},
   "source": [
    "### Classify all the objects"
   ]
  },
  {
   "cell_type": "code",
   "execution_count": 10,
   "metadata": {
    "collapsed": true
   },
   "outputs": [],
   "source": [
    "def get_scores(clf, data, class_labels, positive_value, negative_value):\n",
    "    '''\n",
    "    Find the number of positive and negative controls for each label.\n",
    "    '''\n",
    "    result_pos = []\n",
    "    result_neg = []\n",
    "    print(f\"Scoring positive values: {positive_value} \"\n",
    "          f\"and negative values: {negative_value}\")\n",
    "    for i in range(11):\n",
    "        labels = [int(x) == int(i) for x in class_labels]\n",
    "        Y = [label[0] for label in enumerate(labels) if label[1]]\n",
    "        X = [data[x] for x in Y]\n",
    "        result = clf.predict(X)\n",
    "        neg = [a for a in clf.predict(X) if a == negative_value]\n",
    "        pos = [a for a in clf.predict(X) if a == positive_value]\n",
    "        result_pos.append(100.0 * float(len(pos)) / float(len(result)))\n",
    "        result_neg.append(100.0 * float(len(neg)) / float(len(result)))\n",
    "        print(f\"Label {i}; Positive cells: {result_pos[i]}, \"\n",
    "              f\"Negative cells: {result_neg[i]}\")\n",
    "    return {'negative': result_neg, 'positive': result_pos}"
   ]
  },
  {
   "cell_type": "code",
   "execution_count": 11,
   "metadata": {
    "collapsed": false
   },
   "outputs": [
    {
     "name": "stdout",
     "output_type": "stream",
     "text": [
      "Classifing 17876 objects using 4844 samples\n",
      "Scoring positive values: 10 and negative values: 0\n",
      "Label 0; Positive cells: 0.697969543147, Negative cells: 99.3020304569\n",
      "Label 1; Positive cells: 3.84364820847, Negative cells: 96.1563517915\n",
      "Label 2; Positive cells: 2.79441117764, Negative cells: 97.2055888224\n",
      "Label 3; Positive cells: 11.8569636136, Negative cells: 88.1430363864\n",
      "Label 4; Positive cells: 48.5155195682, Negative cells: 51.4844804318\n",
      "Label 5; Positive cells: 91.7638483965, Negative cells: 8.2361516035\n",
      "Label 6; Positive cells: 96.6966966967, Negative cells: 3.3033033033\n",
      "Label 7; Positive cells: 97.7339181287, Negative cells: 2.26608187135\n",
      "Label 8; Positive cells: 97.2346786248, Negative cells: 2.76532137519\n",
      "Label 9; Positive cells: 96.3527851459, Negative cells: 3.64721485411\n",
      "Label 10; Positive cells: 97.6359338061, Negative cells: 2.36406619385\n"
     ]
    }
   ],
   "source": [
    "print(f\"Classifing {len(data)} objects using {len(clf_samples)} samples\")\n",
    "new_data = clf['model'].transform(data)\n",
    "scores = get_scores(clf['clf'], new_data, class_labels, label_values[1], label_values[0])"
   ]
  },
  {
   "cell_type": "markdown",
   "metadata": {},
   "source": [
    "### Visualise the result"
   ]
  },
  {
   "cell_type": "code",
   "execution_count": 12,
   "metadata": {
    "collapsed": true
   },
   "outputs": [],
   "source": [
    "def plot_result(X_values, Y_values):\n",
    "    plt.figure()\n",
    "    plt.xlabel(\"Dose\")\n",
    "    plt.ylabel(\"% of cell type\")\n",
    "    plt.plot(X_values, Y_values['positive'], c='r', marker='v', label=\"positive\", linewidth=2)\n",
    "    plt.plot(X_values, Y_values['negative'], c='b', marker='o', label=\"negative\", linewidth=2)\n",
    "    plt.legend(\n",
    "        [\"Positive cells\", \"Negive cells (dose=0)\"],\n",
    "        bbox_to_anchor=(1.05, 1), loc=2, borderaxespad=0.)\n",
    "    plt.grid(True)\n",
    "    plt.show()"
   ]
  },
  {
   "cell_type": "code",
   "execution_count": 13,
   "metadata": {
    "collapsed": false
   },
   "outputs": [
    {
     "data": {
      "image/png": "[encoded data removed]",
      "text/plain": [
       "<matplotlib.figure.Figure at 0x112a78b10>"
      ]
     },
     "metadata": {},
     "output_type": "display_data"
    }
   ],
   "source": [
    "plot_result(range(1,12), scores)"
   ]
  },
  {
   "cell_type": "markdown",
   "metadata": {},
   "source": [
    "### Disconnect from the OMERO server"
   ]
  },
  {
   "cell_type": "code",
   "execution_count": 15,
   "metadata": {
    "collapsed": true
   },
   "outputs": [],
   "source": [
    "conn._closeSession()"
   ]
  }
 ],
 "metadata": {
  "kernelspec": {
   "display_name": "Python 2",
   "language": "python",
   "name": "python2"
  },
  "language_info": {
   "codemirror_mode": {
    "name": "ipython",
    "version": 2
   },
   "file_extension": ".py",
   "mimetype": "text/x-python",
   "name": "python",
   "nbconvert_exporter": "python",
   "pygments_lexer": "ipython2",
   "version": "2.7.11"
  }
 },
 "nbformat": 4,
 "nbformat_minor": 0
}
